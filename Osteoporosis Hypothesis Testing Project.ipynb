{
 "cells": [
  {
   "cell_type": "markdown",
   "id": "60ac359d",
   "metadata": {},
   "source": [
    "# Osteoporosis Hypothesis Testing Project"
   ]
  },
  {
   "cell_type": "markdown",
   "id": "c087b315",
   "metadata": {},
   "source": [
    "### Introduction"
   ]
  },
  {
   "cell_type": "markdown",
   "id": "253dfab8",
   "metadata": {},
   "source": [
    "In this project, Ι will be using a Kaggle Dataset to analyze Osteoporosis Medical Data. Specifically, I will use hypothesis testing to answer the following questions:\n",
    "1. Is there an association between Alcohol Consumption and Osteoporosis?\n",
    "2. Does osteoporosis affect younger people or older people more?"
   ]
  },
  {
   "cell_type": "markdown",
   "id": "ee7f1b4b",
   "metadata": {},
   "source": [
    "Data Source: Kaggle (https://www.kaggle.com/datasets/amitvkulkarni/lifestyle-factors-influencing-osteoporosis)"
   ]
  },
  {
   "cell_type": "markdown",
   "id": "903e081e",
   "metadata": {},
   "source": [
    "### Importing libraries"
   ]
  },
  {
   "cell_type": "code",
   "execution_count": 9,
   "id": "53961ac2",
   "metadata": {},
   "outputs": [],
   "source": [
    "import pandas as pd\n",
    "import numpy as np\n",
    "from scipy.stats import ttest_ind, f_oneway, chi2_contingency\n",
    "from statsmodels.stats.multicomp import pairwise_tukeyhsd\n",
    "import matplotlib.pyplot as plt"
   ]
  },
  {
   "cell_type": "markdown",
   "id": "2c9974f0",
   "metadata": {},
   "source": [
    "### Loading the data"
   ]
  },
  {
   "cell_type": "code",
   "execution_count": 2,
   "id": "3cdf7962",
   "metadata": {},
   "outputs": [],
   "source": [
    "df = pd.read_csv('osteoporosis.csv')"
   ]
  },
  {
   "cell_type": "markdown",
   "id": "2b425a1f",
   "metadata": {},
   "source": [
    "### Investigating the data"
   ]
  },
  {
   "cell_type": "code",
   "execution_count": 3,
   "id": "5ca03a23",
   "metadata": {},
   "outputs": [
    {
     "data": {
      "text/html": [
       "<div>\n",
       "<style scoped>\n",
       "    .dataframe tbody tr th:only-of-type {\n",
       "        vertical-align: middle;\n",
       "    }\n",
       "\n",
       "    .dataframe tbody tr th {\n",
       "        vertical-align: top;\n",
       "    }\n",
       "\n",
       "    .dataframe thead th {\n",
       "        text-align: right;\n",
       "    }\n",
       "</style>\n",
       "<table border=\"1\" class=\"dataframe\">\n",
       "  <thead>\n",
       "    <tr style=\"text-align: right;\">\n",
       "      <th></th>\n",
       "      <th>Id</th>\n",
       "      <th>Age</th>\n",
       "      <th>Gender</th>\n",
       "      <th>Hormonal Changes</th>\n",
       "      <th>Family History</th>\n",
       "      <th>Race/Ethnicity</th>\n",
       "      <th>Body Weight</th>\n",
       "      <th>Calcium Intake</th>\n",
       "      <th>Vitamin D Intake</th>\n",
       "      <th>Physical Activity</th>\n",
       "      <th>Smoking</th>\n",
       "      <th>Alcohol Consumption</th>\n",
       "      <th>Medical Conditions</th>\n",
       "      <th>Medications</th>\n",
       "      <th>Prior Fractures</th>\n",
       "      <th>Osteoporosis</th>\n",
       "    </tr>\n",
       "  </thead>\n",
       "  <tbody>\n",
       "    <tr>\n",
       "      <th>0</th>\n",
       "      <td>104866</td>\n",
       "      <td>69</td>\n",
       "      <td>Female</td>\n",
       "      <td>Normal</td>\n",
       "      <td>Yes</td>\n",
       "      <td>Asian</td>\n",
       "      <td>Underweight</td>\n",
       "      <td>Low</td>\n",
       "      <td>Sufficient</td>\n",
       "      <td>Sedentary</td>\n",
       "      <td>Yes</td>\n",
       "      <td>Moderate</td>\n",
       "      <td>Rheumatoid Arthritis</td>\n",
       "      <td>Corticosteroids</td>\n",
       "      <td>Yes</td>\n",
       "      <td>1</td>\n",
       "    </tr>\n",
       "    <tr>\n",
       "      <th>1</th>\n",
       "      <td>101999</td>\n",
       "      <td>32</td>\n",
       "      <td>Female</td>\n",
       "      <td>Normal</td>\n",
       "      <td>Yes</td>\n",
       "      <td>Asian</td>\n",
       "      <td>Underweight</td>\n",
       "      <td>Low</td>\n",
       "      <td>Sufficient</td>\n",
       "      <td>Sedentary</td>\n",
       "      <td>No</td>\n",
       "      <td>None</td>\n",
       "      <td>None</td>\n",
       "      <td>None</td>\n",
       "      <td>Yes</td>\n",
       "      <td>1</td>\n",
       "    </tr>\n",
       "    <tr>\n",
       "      <th>2</th>\n",
       "      <td>106567</td>\n",
       "      <td>89</td>\n",
       "      <td>Female</td>\n",
       "      <td>Postmenopausal</td>\n",
       "      <td>No</td>\n",
       "      <td>Caucasian</td>\n",
       "      <td>Normal</td>\n",
       "      <td>Adequate</td>\n",
       "      <td>Sufficient</td>\n",
       "      <td>Active</td>\n",
       "      <td>No</td>\n",
       "      <td>Moderate</td>\n",
       "      <td>Hyperthyroidism</td>\n",
       "      <td>Corticosteroids</td>\n",
       "      <td>No</td>\n",
       "      <td>1</td>\n",
       "    </tr>\n",
       "    <tr>\n",
       "      <th>3</th>\n",
       "      <td>102316</td>\n",
       "      <td>78</td>\n",
       "      <td>Female</td>\n",
       "      <td>Normal</td>\n",
       "      <td>No</td>\n",
       "      <td>Caucasian</td>\n",
       "      <td>Underweight</td>\n",
       "      <td>Adequate</td>\n",
       "      <td>Insufficient</td>\n",
       "      <td>Sedentary</td>\n",
       "      <td>Yes</td>\n",
       "      <td>None</td>\n",
       "      <td>Rheumatoid Arthritis</td>\n",
       "      <td>Corticosteroids</td>\n",
       "      <td>No</td>\n",
       "      <td>1</td>\n",
       "    </tr>\n",
       "    <tr>\n",
       "      <th>4</th>\n",
       "      <td>101944</td>\n",
       "      <td>38</td>\n",
       "      <td>Male</td>\n",
       "      <td>Postmenopausal</td>\n",
       "      <td>Yes</td>\n",
       "      <td>African American</td>\n",
       "      <td>Normal</td>\n",
       "      <td>Low</td>\n",
       "      <td>Sufficient</td>\n",
       "      <td>Active</td>\n",
       "      <td>Yes</td>\n",
       "      <td>None</td>\n",
       "      <td>Rheumatoid Arthritis</td>\n",
       "      <td>None</td>\n",
       "      <td>Yes</td>\n",
       "      <td>1</td>\n",
       "    </tr>\n",
       "  </tbody>\n",
       "</table>\n",
       "</div>"
      ],
      "text/plain": [
       "       Id  Age  Gender Hormonal Changes Family History    Race/Ethnicity  \\\n",
       "0  104866   69  Female           Normal            Yes             Asian   \n",
       "1  101999   32  Female           Normal            Yes             Asian   \n",
       "2  106567   89  Female   Postmenopausal             No         Caucasian   \n",
       "3  102316   78  Female           Normal             No         Caucasian   \n",
       "4  101944   38    Male   Postmenopausal            Yes  African American   \n",
       "\n",
       "   Body Weight Calcium Intake Vitamin D Intake Physical Activity Smoking  \\\n",
       "0  Underweight            Low       Sufficient         Sedentary     Yes   \n",
       "1  Underweight            Low       Sufficient         Sedentary      No   \n",
       "2       Normal       Adequate       Sufficient            Active      No   \n",
       "3  Underweight       Adequate     Insufficient         Sedentary     Yes   \n",
       "4       Normal            Low       Sufficient            Active     Yes   \n",
       "\n",
       "  Alcohol Consumption    Medical Conditions      Medications Prior Fractures  \\\n",
       "0            Moderate  Rheumatoid Arthritis  Corticosteroids             Yes   \n",
       "1                None                  None             None             Yes   \n",
       "2            Moderate       Hyperthyroidism  Corticosteroids              No   \n",
       "3                None  Rheumatoid Arthritis  Corticosteroids              No   \n",
       "4                None  Rheumatoid Arthritis             None             Yes   \n",
       "\n",
       "   Osteoporosis  \n",
       "0             1  \n",
       "1             1  \n",
       "2             1  \n",
       "3             1  \n",
       "4             1  "
      ]
     },
     "execution_count": 3,
     "metadata": {},
     "output_type": "execute_result"
    }
   ],
   "source": [
    "df.head()"
   ]
  },
  {
   "cell_type": "code",
   "execution_count": 4,
   "id": "4b896ae0",
   "metadata": {},
   "outputs": [
    {
     "name": "stdout",
     "output_type": "stream",
     "text": [
      "<class 'pandas.core.frame.DataFrame'>\n",
      "RangeIndex: 1958 entries, 0 to 1957\n",
      "Data columns (total 16 columns):\n",
      " #   Column               Non-Null Count  Dtype \n",
      "---  ------               --------------  ----- \n",
      " 0   Id                   1958 non-null   int64 \n",
      " 1   Age                  1958 non-null   int64 \n",
      " 2   Gender               1958 non-null   object\n",
      " 3   Hormonal Changes     1958 non-null   object\n",
      " 4   Family History       1958 non-null   object\n",
      " 5   Race/Ethnicity       1958 non-null   object\n",
      " 6   Body Weight          1958 non-null   object\n",
      " 7   Calcium Intake       1958 non-null   object\n",
      " 8   Vitamin D Intake     1958 non-null   object\n",
      " 9   Physical Activity    1958 non-null   object\n",
      " 10  Smoking              1958 non-null   object\n",
      " 11  Alcohol Consumption  1958 non-null   object\n",
      " 12  Medical Conditions   1958 non-null   object\n",
      " 13  Medications          1958 non-null   object\n",
      " 14  Prior Fractures      1958 non-null   object\n",
      " 15  Osteoporosis         1958 non-null   int64 \n",
      "dtypes: int64(3), object(13)\n",
      "memory usage: 244.9+ KB\n"
     ]
    }
   ],
   "source": [
    "df.info()"
   ]
  },
  {
   "cell_type": "code",
   "execution_count": 5,
   "id": "a7359e50",
   "metadata": {},
   "outputs": [
    {
     "data": {
      "text/plain": [
       "count    1958.000000\n",
       "mean       39.101124\n",
       "std        21.355424\n",
       "min        18.000000\n",
       "25%        21.000000\n",
       "50%        32.000000\n",
       "75%        53.000000\n",
       "max        90.000000\n",
       "Name: Age, dtype: float64"
      ]
     },
     "execution_count": 5,
     "metadata": {},
     "output_type": "execute_result"
    }
   ],
   "source": [
    "df.Age.describe()"
   ]
  },
  {
   "cell_type": "code",
   "execution_count": 8,
   "id": "95cfff14",
   "metadata": {},
   "outputs": [
    {
     "name": "stdout",
     "output_type": "stream",
     "text": [
      "Gender:\n",
      "Male      992\n",
      "Female    966\n",
      "Name: Gender, dtype: int64\n",
      "\n",
      "Hormonal Changes:\n",
      "Normal            981\n",
      "Postmenopausal    977\n",
      "Name: Hormonal Changes, dtype: int64\n",
      "\n",
      "Family History:\n",
      "No     998\n",
      "Yes    960\n",
      "Name: Family History, dtype: int64\n",
      "\n",
      "Race/Ethnicity:\n",
      "African American    681\n",
      "Caucasian           646\n",
      "Asian               631\n",
      "Name: Race/Ethnicity, dtype: int64\n",
      "\n",
      "Body Weight:\n",
      "Normal         1027\n",
      "Underweight     931\n",
      "Name: Body Weight, dtype: int64\n",
      "\n",
      "Calcium Intake:\n",
      "Low         1004\n",
      "Adequate     954\n",
      "Name: Calcium Intake, dtype: int64\n",
      "\n",
      "Vitamin D Intake:\n",
      "Sufficient      1011\n",
      "Insufficient     947\n",
      "Name: Vitamin D Intake, dtype: int64\n",
      "\n",
      "Physical Activity:\n",
      "Active       1021\n",
      "Sedentary     937\n",
      "Name: Physical Activity, dtype: int64\n",
      "\n",
      "Smoking:\n",
      "Yes    982\n",
      "No     976\n",
      "Name: Smoking, dtype: int64\n",
      "\n",
      "Alcohol Consumption:\n",
      "None        988\n",
      "Moderate    970\n",
      "Name: Alcohol Consumption, dtype: int64\n",
      "\n",
      "Medical Conditions:\n",
      "Hyperthyroidism         678\n",
      "None                    647\n",
      "Rheumatoid Arthritis    633\n",
      "Name: Medical Conditions, dtype: int64\n",
      "\n",
      "Medications:\n",
      "None               985\n",
      "Corticosteroids    973\n",
      "Name: Medications, dtype: int64\n",
      "\n",
      "Prior Fractures:\n",
      "Yes    983\n",
      "No     975\n",
      "Name: Prior Fractures, dtype: int64\n",
      "\n"
     ]
    }
   ],
   "source": [
    "col = df.select_dtypes(exclude='int64').columns\n",
    "\n",
    "for i in col:\n",
    "    print(i + \":\")\n",
    "    print(df[i].value_counts())\n",
    "    print()"
   ]
  },
  {
   "cell_type": "code",
   "execution_count": 26,
   "id": "f54d6a2c",
   "metadata": {},
   "outputs": [
    {
     "data": {
      "text/plain": [
       "1    979\n",
       "0    979\n",
       "Name: Osteoporosis, dtype: int64"
      ]
     },
     "execution_count": 26,
     "metadata": {},
     "output_type": "execute_result"
    }
   ],
   "source": [
    "df.Osteoporosis.value_counts()"
   ]
  },
  {
   "cell_type": "code",
   "execution_count": 45,
   "id": "f67ac5a6",
   "metadata": {},
   "outputs": [
    {
     "data": {
      "image/png": "[encoded data removed]",
      "text/plain": [
       "<Figure size 640x480 with 1 Axes>"
      ]
     },
     "metadata": {},
     "output_type": "display_data"
    },
    {
     "data": {
      "text/plain": [
       "<Figure size 640x480 with 0 Axes>"
      ]
     },
     "metadata": {},
     "output_type": "display_data"
    }
   ],
   "source": [
    "plt.hist(df.Age)\n",
    "plt.show()\n",
    "plt.clf()"
   ]
  },
  {
   "cell_type": "code",
   "execution_count": 30,
   "id": "d02e3a68",
   "metadata": {},
   "outputs": [
    {
     "data": {
      "image/png": "[encoded data removed]",
      "text/plain": [
       "<Figure size 640x480 with 1 Axes>"
      ]
     },
     "metadata": {},
     "output_type": "display_data"
    },
    {
     "data": {
      "text/plain": [
       "<Figure size 640x480 with 0 Axes>"
      ]
     },
     "metadata": {},
     "output_type": "display_data"
    }
   ],
   "source": [
    "plt.hist(df.Age[df.Osteoporosis == 0], color='blue', label='No Osteoporosis', alpha=0.5, bins=20)\n",
    "plt.hist(df.Age[df.Osteoporosis == 1], color='red', label='Osteoporosis', alpha=0.5, bins=20)\n",
    "plt.title(\"Distribution of Age\")\n",
    "plt.xlabel('Age')\n",
    "plt.ylabel('Frequency')\n",
    "plt.legend()\n",
    "plt.show()\n",
    "plt.clf()"
   ]
  },
  {
   "cell_type": "markdown",
   "id": "70ab58e3",
   "metadata": {},
   "source": [
    "In the figure above, we notice that the distribution of ages of people without osteoporosis is concentrated around the left side of the graph, meaning that younger people are not as affected by osteoporosis. This will be tested using hypothesis testing techniques later on. "
   ]
  },
  {
   "cell_type": "markdown",
   "id": "b530d631",
   "metadata": {},
   "source": [
    "### Analyzing the data"
   ]
  },
  {
   "cell_type": "markdown",
   "id": "8274a678",
   "metadata": {},
   "source": [
    "#### Question 1: Is there an association between Alcohol Consumption and Osteoporosis?"
   ]
  },
  {
   "cell_type": "markdown",
   "id": "f51aad09",
   "metadata": {},
   "source": [
    "Here, I want to explore the relationship between two categorical variables, Alchohol Consumption and Osteoporosis. To do this, I will run a Chi-Square Test to see if there is a significant association between the variables. I will use a significance threshold of 0.05."
   ]
  },
  {
   "cell_type": "markdown",
   "id": "288e66e9",
   "metadata": {},
   "source": [
    "##### Chi-Square Test"
   ]
  },
  {
   "cell_type": "code",
   "execution_count": 33,
   "id": "d9ab4d5e",
   "metadata": {},
   "outputs": [
    {
     "data": {
      "text/html": [
       "<div>\n",
       "<style scoped>\n",
       "    .dataframe tbody tr th:only-of-type {\n",
       "        vertical-align: middle;\n",
       "    }\n",
       "\n",
       "    .dataframe tbody tr th {\n",
       "        vertical-align: top;\n",
       "    }\n",
       "\n",
       "    .dataframe thead th {\n",
       "        text-align: right;\n",
       "    }\n",
       "</style>\n",
       "<table border=\"1\" class=\"dataframe\">\n",
       "  <thead>\n",
       "    <tr style=\"text-align: right;\">\n",
       "      <th>Osteoporosis</th>\n",
       "      <th>0</th>\n",
       "      <th>1</th>\n",
       "    </tr>\n",
       "    <tr>\n",
       "      <th>Alcohol Consumption</th>\n",
       "      <th></th>\n",
       "      <th></th>\n",
       "    </tr>\n",
       "  </thead>\n",
       "  <tbody>\n",
       "    <tr>\n",
       "      <th>Moderate</th>\n",
       "      <td>484</td>\n",
       "      <td>486</td>\n",
       "    </tr>\n",
       "    <tr>\n",
       "      <th>None</th>\n",
       "      <td>495</td>\n",
       "      <td>493</td>\n",
       "    </tr>\n",
       "  </tbody>\n",
       "</table>\n",
       "</div>"
      ],
      "text/plain": [
       "Osteoporosis           0    1\n",
       "Alcohol Consumption          \n",
       "Moderate             484  486\n",
       "None                 495  493"
      ]
     },
     "execution_count": 33,
     "metadata": {},
     "output_type": "execute_result"
    }
   ],
   "source": [
    "contingency = pd.crosstab(df['Alcohol Consumption'], df.Osteoporosis)\n",
    "contingency"
   ]
  },
  {
   "cell_type": "code",
   "execution_count": 37,
   "id": "563cbe0f",
   "metadata": {},
   "outputs": [
    {
     "name": "stdout",
     "output_type": "stream",
     "text": [
      "p-value: 0.963947598137716\n"
     ]
    }
   ],
   "source": [
    "chi2, pval, dof, expected = chi2_contingency(contingency)\n",
    "print('p-value:', pval)"
   ]
  },
  {
   "cell_type": "markdown",
   "id": "803fc2cd",
   "metadata": {},
   "source": [
    "Since the p-value is greater than our chosen significance threshold, we can conclude there is no statistically significant association between the two variables. Hence, Alcohol Consumption and Osteoporosis are not associated. "
   ]
  },
  {
   "cell_type": "markdown",
   "id": "81bd8419",
   "metadata": {},
   "source": [
    "#### Question 2: Does osteoporosis affect younger people or older people more?"
   ]
  },
  {
   "cell_type": "markdown",
   "id": "fa4b2b02",
   "metadata": {},
   "source": [
    "In this second question, I want to investigate the association between a quantitative variable, age, and a binary categorical variable, Osteoporosis diagnosis. In order to do this, we need to calculate the average age for people with and without Osteoporosis and then use a two-sample t-test to determine the probability that the two average ages are significantly different. I will again use a significance threshold of 0.05 for this test."
   ]
  },
  {
   "cell_type": "markdown",
   "id": "e9e11b25",
   "metadata": {},
   "source": [
    "##### Two-Sample T-Test"
   ]
  },
  {
   "cell_type": "code",
   "execution_count": 40,
   "id": "19515d9c",
   "metadata": {},
   "outputs": [
    {
     "name": "stdout",
     "output_type": "stream",
     "text": [
      "Mean age of people with Osteoporosis 54\n"
     ]
    }
   ],
   "source": [
    "mean_age_osteo = df.Age[df.Osteoporosis == 1].mean()\n",
    "print('Mean age of people with Osteoporosis', round(mean_age_osteo))"
   ]
  },
  {
   "cell_type": "code",
   "execution_count": 41,
   "id": "d74c1e9b",
   "metadata": {},
   "outputs": [
    {
     "name": "stdout",
     "output_type": "stream",
     "text": [
      "Mean age of people without Osteoporosis 24\n"
     ]
    }
   ],
   "source": [
    "mean_age_no_osteo = df.Age[df.Osteoporosis == 0].mean()\n",
    "print('Mean age of people without Osteoporosis', round(mean_age_no_osteo))"
   ]
  },
  {
   "cell_type": "code",
   "execution_count": 44,
   "id": "462ea01d",
   "metadata": {},
   "outputs": [
    {
     "name": "stdout",
     "output_type": "stream",
     "text": [
      "p-value: 2.83393260377111e-278\n"
     ]
    }
   ],
   "source": [
    "tstat, pval = ttest_ind(df.Age[df.Osteoporosis == 0], df.Age[df.Osteoporosis == 1])\n",
    "print('p-value:', pval)"
   ]
  },
  {
   "cell_type": "markdown",
   "id": "45713e52",
   "metadata": {},
   "source": [
    "Since, the p-value is lower than the set singificant threshold, we conclude that older people are more affected by osteoporosis, as there is a statistically significant association between osteoporosis and age. This result aligns with our expectation, after plotting the distributions of the age for people with and without osteoporosis."
   ]
  },
  {
   "cell_type": "markdown",
   "id": "726a2954",
   "metadata": {},
   "source": [
    "### Conclusion"
   ]
  },
  {
   "cell_type": "markdown",
   "id": "9aa6f609",
   "metadata": {},
   "source": [
    "To conclude, the above analysis produced the following results:\n",
    "- There is no association between Alcohol Consumption and Osteoporosis\n",
    "- Older people are more strongly affected by Osteoporosis than young people "
   ]
  },
  {
   "cell_type": "markdown",
   "id": "3be6bd10",
   "metadata": {},
   "source": [
    "These results could be improved in terms of accuracy by both increasing the sample size and also balancing the ages across the whole range, instead of having a larger concentration in the low to mid 20s."
   ]
  }
 ],
 "metadata": {
  "kernelspec": {
   "display_name": "Python 3 (ipykernel)",
   "language": "python",
   "name": "python3"
  },
  "language_info": {
   "codemirror_mode": {
    "name": "ipython",
    "version": 3
   },
   "file_extension": ".py",
   "mimetype": "text/x-python",
   "name": "python",
   "nbconvert_exporter": "python",
   "pygments_lexer": "ipython3",
   "version": "3.11.4"
  }
 },
 "nbformat": 4,
 "nbformat_minor": 5
}
